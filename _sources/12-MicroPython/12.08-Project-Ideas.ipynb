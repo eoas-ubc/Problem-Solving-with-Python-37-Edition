{
 "cells": [
  {
   "cell_type": "markdown",
   "metadata": {},
   "source": [
    "## Project Ideas"
   ]
  },
  {
   "cell_type": "markdown",
   "metadata": {
    "latex": {
     "environment": "problems"
    }
   },
   "source": [
    "P12.01 Use MicroPython and a microcontroller to read a potentiometer and print the results to the screen of a computer.\n",
    "\n",
    "P12.02 Use MicroPython, a microcontroller, and a light sensor to measure light level. Light up different numbers of LED's based on the measured light level.\n",
    "\n",
    "P12.03 Use MicroPython and a microcontroller to read a potentiometer and print the results to the screen of a computer.\n",
    "\n",
    "P12.04 Use MicroPython to turn on and off an LED based on a value stored on an IoT cloud server, like io.adafruit.com.\n",
    "\n",
    "P12.05 Use MicorPython and a temperature sensor connected to a microcontroller to measure the temperature and send the temperature to a computer running Python and PySerial. Use Matplotlib on the computer to plot the temperature.\n",
    "\n",
    "P12.06 Use MicroPython and uRequests package to send temperature sensor measurements up to an IoT cloud server, like io.adafruit.com.\n"
   ]
  },
  {
   "cell_type": "code",
   "execution_count": null,
   "metadata": {},
   "outputs": [],
   "source": []
  }
 ],
 "metadata": {
  "kernelspec": {
   "display_name": "Python 3",
   "language": "python",
   "name": "python3"
  },
  "language_info": {
   "codemirror_mode": {
    "name": "ipython",
    "version": 3
   },
   "file_extension": ".py",
   "mimetype": "text/x-python",
   "name": "python",
   "nbconvert_exporter": "python",
   "pygments_lexer": "ipython3",
   "version": "3.6.8"
  }
 },
 "nbformat": 4,
 "nbformat_minor": 2
}
