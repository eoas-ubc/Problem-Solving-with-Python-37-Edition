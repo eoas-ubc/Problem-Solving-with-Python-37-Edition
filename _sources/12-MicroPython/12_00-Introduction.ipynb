{
 "cells": [
  {
   "cell_type": "markdown",
   "metadata": {},
   "source": [
    "# MicroPython"
   ]
  },
  {
   "cell_type": "markdown",
   "metadata": {},
   "source": [
    "## Introduction"
   ]
  },
  {
   "cell_type": "markdown",
   "metadata": {
    "latex": {
     "after_cell": "newpage"
    }
   },
   "source": [
    "By the end of this chapter you will be able to:\n",
    "\n",
    " * Install MicroPython on a microcontroller\n",
    " \n",
    " * Run Python commands on a microcontroller using the MicroPython REPL\n",
    " \n",
    " * Save module files and run Python scripts on a microcontroller\n",
    " \n",
    " * Use MicroPython to read data off a sensor\n",
    " \n",
    " * Use MicroPython to switch on and off a light"
   ]
  },
  {
   "cell_type": "code",
   "execution_count": null,
   "metadata": {},
   "outputs": [],
   "source": []
  },
  {
   "cell_type": "markdown",
   "metadata": {},
   "source": [
    "```{toctree}\n",
    ":hidden:\n",
    ":titlesonly:\n",
    "\n",
    "\n",
    "12_01-What-is-MicroPython.md\n",
    "12_02-Installing-MicroPython.md\n",
    "12_03-MicroPython-REPL.md\n",
    "12_04-Blinking-a-LED.md\n",
    "12_05-Reading-a-Sensor.md\n",
    "12_06-Uploading-Code.md\n",
    "12_07-Summary.md\n",
    "12_08-Project-Ideas.md\n",
    "```"
   ]
  }
 ],
 "metadata": {
  "jupytext": {
   "text_representation": {
    "extension": ".md",
    "format_name": "myst",
    "format_version": "0.9",
    "jupytext_version": "1.5.0"
   }
  },
  "kernelspec": {
   "display_name": "Python 3",
   "language": "python",
   "name": "python3"
  },
  "language_info": {
   "codemirror_mode": {
    "name": "ipython",
    "version": 3
   },
   "file_extension": ".py",
   "mimetype": "text/x-python",
   "name": "python",
   "nbconvert_exporter": "python",
   "pygments_lexer": "ipython3",
   "version": "3.8.5"
  },
  "source_map": [
   12,
   16,
   20,
   34,
   36
  ]
 },
 "nbformat": 4,
 "nbformat_minor": 4
}