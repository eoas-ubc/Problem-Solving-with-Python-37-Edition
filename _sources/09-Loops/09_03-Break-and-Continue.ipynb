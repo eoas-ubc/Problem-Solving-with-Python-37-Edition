{
 "cells": [
  {
   "cell_type": "markdown",
   "metadata": {},
   "source": [
    "## Break and Continue"
   ]
  },
  {
   "cell_type": "markdown",
   "metadata": {},
   "source": [
    "_Break_ and _continue_ are two ways to modify the behavior of for loops and while loops."
   ]
  },
  {
   "cell_type": "markdown",
   "metadata": {},
   "source": [
    "### Break\n",
    "\n",
    "In Python, the keyword ```break``` causes the program to exit a loop early. ```break``` causes the program to jump out of for loops even if the for loop hasn't run the specified number of times.```break``` causes the program to jump out of while loops even if the logical condition that defines the loop is still ```True```.\n",
    "\n",
    "An example using ```break``` in a for loop is below."
   ]
  },
  {
   "cell_type": "code",
   "execution_count": null,
   "metadata": {},
   "outputs": [],
   "source": [
    "for i in range(100):\n",
    "    print(i)\n",
    "    if i == 3:\n",
    "        break\n",
    "print('Loop exited')"
   ]
  },
  {
   "cell_type": "markdown",
   "metadata": {},
   "source": [
    "When the loop hits ```i=3```, ```break``` is encountered and the program exits the loop. \n",
    "\n",
    "An example using ```break``` in a while loop is below."
   ]
  },
  {
   "cell_type": "code",
   "execution_count": null,
   "metadata": {},
   "outputs": [],
   "source": [
    "while True:\n",
    "    out = input('type q to exit the loop: ')\n",
    "    if out == 'q':\n",
    "        break\n",
    "print('Loop exited')"
   ]
  },
  {
   "cell_type": "markdown",
   "metadata": {},
   "source": [
    "### Continue\n",
    "\n",
    "In Python, the keyword ```continue``` causes the program to stop running code in a loop and start back at the top of the loop. Remember the keyword ```break``` cause the program to _exit_ a loop. ```continue``` is similar, but ```continue``` causes the program to stop the _current iteration_ of the loop and _start the next iteration at the top_ of the loop.\n",
    "\n",
    "A code section that uses ```continue``` in a for loop is below."
   ]
  },
  {
   "cell_type": "code",
   "execution_count": null,
   "metadata": {},
   "outputs": [],
   "source": [
    "for i in range(4):\n",
    "    if i==2:\n",
    "        continue\n",
    "    print(i)"
   ]
  },
  {
   "cell_type": "markdown",
   "metadata": {},
   "source": [
    "When the code section is run, the number ```2``` is not printed. This is because when ```i=2``` the program hits the  ```continue``` statement. Therefore, the line ```print(i)``` isn't run when ```i=2```. Then the program starts back up at the start of the loop with the next number ```i=3```."
   ]
  }
 ],
 "metadata": {
  "jupytext": {
   "text_representation": {
    "extension": ".md",
    "format_name": "myst",
    "format_version": "0.9",
    "jupytext_version": "1.5.0"
   }
  },
  "kernelspec": {
   "display_name": "Python 3",
   "language": "python",
   "name": "python3"
  },
  "language_info": {
   "file_extension": ".txt"
  },
  "source_map": [
   12,
   16,
   20,
   28,
   34,
   40,
   46,
   54,
   59
  ]
 },
 "nbformat": 4,
 "nbformat_minor": 4
}