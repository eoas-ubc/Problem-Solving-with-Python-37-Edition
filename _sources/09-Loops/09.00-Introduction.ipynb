{
 "cells": [
  {
   "cell_type": "markdown",
   "metadata": {},
   "source": [
    "# Loops"
   ]
  },
  {
   "cell_type": "markdown",
   "metadata": {},
   "source": [
    "## Introduction"
   ]
  },
  {
   "cell_type": "markdown",
   "metadata": {
    "latex": {
     "after_cell": "newpage"
    }
   },
   "source": [
    "Repetition structures allow the same piece of code to run multiple times. Two repetion structures in Python are for loops and while loops. For loops run a set number of times. While loops run as long as a specific logical condition is true.\n",
    "\n",
    "By the end of this chapter you will be able to:\n",
    "\n",
    " * use a while loop \n",
    " \n",
    " * use a for loop\n",
    " \n",
    " * use the break statement\n",
    " \n",
    " * use the continue statement\n",
    " \n",
    " * construct flowcharts that describe programs with loops"
   ]
  },
  {
   "cell_type": "code",
   "execution_count": null,
   "metadata": {},
   "outputs": [],
   "source": []
  }
 ],
 "metadata": {
  "kernelspec": {
   "display_name": "Python 3",
   "language": "python",
   "name": "python3"
  },
  "language_info": {
   "codemirror_mode": {
    "name": "ipython",
    "version": 3
   },
   "file_extension": ".py",
   "mimetype": "text/x-python",
   "name": "python",
   "nbconvert_exporter": "python",
   "pygments_lexer": "ipython3",
   "version": "3.7.3"
  }
 },
 "nbformat": 4,
 "nbformat_minor": 2
}
