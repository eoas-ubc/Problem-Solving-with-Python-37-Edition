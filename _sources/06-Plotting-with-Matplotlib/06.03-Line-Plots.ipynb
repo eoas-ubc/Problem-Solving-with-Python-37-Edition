{
 "cells": [
  {
   "cell_type": "markdown",
   "metadata": {},
   "source": [
    "## Line Plots"
   ]
  },
  {
   "cell_type": "markdown",
   "metadata": {},
   "source": [
    "Line plots can be created in Python with Matplotlib's ```pyplot``` library."
   ]
  },
  {
   "cell_type": "markdown",
   "metadata": {},
   "source": [
    "To build a line plot, first import Matplotlib.  It is a standard convention to import Matplotlib's ```pyplot``` library as ```plt```. The ```plt``` alias will be familiar to other Python programmers.\n",
    "\n",
    "If using a Jupyter notebook, include the line ```%matplotlib inline``` after the imports. ```%matplotlib inline``` is a Jupyter notebook magic command which causes Matplotlib plots to display directly inside Jupyter notebook output cells. \n",
    "\n",
    "To build our first plot, we will also use NumPy, a numerical computing library for Python. NumPy is typically imported with the alias ```np```."
   ]
  },
  {
   "cell_type": "code",
   "execution_count": 1,
   "metadata": {},
   "outputs": [],
   "source": [
    "import matplotlib.pyplot as plt\n",
    "import numpy as np\n",
    "# if using a Jupyter notebook, include:\n",
    "%matplotlib inline"
   ]
  },
  {
   "cell_type": "markdown",
   "metadata": {},
   "source": [
    "NumPy's ```np.arange()``` function creates an array of numbers with the parameters ```np.arange(start,stop,step)```. NumPy's ```np.sin()``` and ```np.pi``` functions do what you expect, calculate the sine of an array and compute $\\pi$.  We use these functions to create two arrays of numbers ```x``` and ```y```."
   ]
  },
  {
   "cell_type": "code",
   "execution_count": 2,
   "metadata": {},
   "outputs": [],
   "source": [
    "x = np.arange(0, 4 * np.pi, 0.1)\n",
    "y = np.sin(x)"
   ]
  },
  {
   "cell_type": "markdown",
   "metadata": {},
   "source": [
    "To create a line plot, pass an array or list of numbers as an _argument_ to Matplotlib's ```plt.plot()``` function. The command ```plt.show()``` is needed at the end to show the plot. Make sure to include the double parenthesis ```()``` in ```plt.show()```."
   ]
  },
  {
   "cell_type": "code",
   "execution_count": 3,
   "metadata": {},
   "outputs": [
    {
     "data": {
      "image/png": "[encoded data removed]",
      "text/plain": [
       "<Figure size 432x288 with 1 Axes>"
      ]
     },
     "metadata": {
      "needs_background": "light"
     },
     "output_type": "display_data"
    }
   ],
   "source": [
    "plt.plot(x, y)\n",
    "plt.show()"
   ]
  },
  {
   "cell_type": "markdown",
   "metadata": {},
   "source": [
    "The result is a line plot that shows sin(x) from 0 to 4$\\pi$."
   ]
  },
  {
   "cell_type": "markdown",
   "metadata": {},
   "source": [
    "### Features of a Matplotlib plot"
   ]
  },
  {
   "cell_type": "markdown",
   "metadata": {},
   "source": [
    "A variety of features on a Matplotlib plot can be specified. The following is a list of commonly defined features:"
   ]
  },
  {
   "cell_type": "markdown",
   "metadata": {},
   "source": [
    "#### Line Color, Line Width, Line Style, Line Opacity and Marker Options\n",
    "\n",
    "The color, width, and style of line in a Matplotlib plot can be specified. Line color, line width, and line style are included as extra keyword arguments in the ```plt.plot()``` function call.\n",
    "\n",
    "```python\n",
    "plt.plot(<x-data>,<y-data>,\n",
    "            linewideth=<float or int>,\n",
    "            linestyle='<linestyle abbreviation>',\n",
    "            color='<color abbreviation>',\n",
    "            marker='<marker abbreviation>')\n",
    "```\n",
    "\n",
    "An example ```plt.plot()``` function call including line color, line width, and line style options is:\n",
    "\n",
    "```python\n",
    "plt.plot(x, y,\n",
    "         linewidth=2.0,\n",
    "         linestyle='+',\n",
    "         color='b',\n",
    "         alpha=0.5,\n",
    "         marker='o')\n",
    "```\n",
    "\n",
    "Below is a list of linewidths (many other widths are also available).\n",
    "\n",
    "|```linewidth=<float or int>``` | Line Width |\n",
    "| --- | --- |\n",
    "| 0.5 | 0.5 pixels wide |\n",
    "| 1   | 1 pixel wide |\n",
    "| 1.5 | 1.5 pixels wide |\n",
    "| 2   | 2 pixels wide |\n",
    "| 3 | 3 pixels wide |\n",
    "\n",
    "Below is a list of line styles.\n",
    "\n",
    "|```linestyle='<style abbreviation>'``` | Line Style |\n",
    "| --- | --- |\n",
    "|```'-'``` or ```'solid'``` | \tsolid line (default) |\n",
    "|```'--'``` or ```'dashed'``` | \tdashed line |\n",
    "|```'-.'``` or ```'dashdot'``` | \tdash-dot line |\n",
    "|```':'``` or ```'dotted'``` | \tdotted line |\n",
    "|```'None'``` or ```' '``` or ```''``` |\tno line |\n",
    "\n",
    "\n",
    "Below is a list of color abbreviations. Note ```'b'``` is used for blue and ```'k'``` is used for black.\n",
    "\n",
    "| ```color ='<color abbreviation>'``` | Color Name |\n",
    "| --- | --- |\n",
    "| ```'b'``` | blue\n",
    "| ```'c'``` | cyan |\n",
    "| ```'g'``` | green |\n",
    "| ```'k'``` | black |\n",
    "| ```'m'``` | magenta |\n",
    "| ```'r'``` | red |\n",
    "| ```'w'``` | white |\n",
    "| ```'y'``` | yellow |\n",
    "\n",
    "Colors can also be specified in hexadecimal form surrounded by quotation marks like ```'#FF69B4'``` or in RGBA (red, green, blue, opacity) color surrounded by parenthesis like ```(255,182,193,0.5)```.\n",
    "\n",
    "| ```color ='<color abbreviation>'``` | Color Format |\n",
    "| --- | --- |\n",
    "| ```'#FF69B4'``` | hexadecimal |\n",
    "| ```(255,182,193,0.5)``` | RGBA |\n",
    "\n",
    "Below is a list of alpha (opacity) values (any alpha value between 0.0 and 1.0 is possible).\n",
    "\n",
    "| ```alpha = <float or int>``` | Opacity |\n",
    "| --- | --- |\n",
    "| ```0``` | transparent |\n",
    "| ```0.5``` | half transparent |\n",
    "| ```1.0``` | opaque |\n",
    "\n",
    "\n",
    "Below is a list of maker styles.\n",
    "\n",
    "|```marker='<marker abbreviation>'``` | Marker Style |\n",
    "| --- | --- |\n",
    "|```'.'``` |\tpoint |\n",
    "|```','``` |\tone pixel |\n",
    "|```'o'``` |\tcircle |\n",
    "|```'v'``` |\ttriangle_down |\n",
    "|```'^'``` |\ttriangle_up |\n",
    "|```'8'``` |\toctagon |\n",
    "|```'s'``` |\tsquare |\n",
    "|```'p'``` |\tpentagon |\n",
    "|```'*'``` |\tstar |\n",
    "|```'h'``` |\thexagon 1 |\n",
    "|```'H'``` |\thexagon 2 |\n",
    "|```'+'``` |\tplus |\n",
    "|```'P'``` |\tfilled plus |\n",
    "|```'x'``` |\tx |\n",
    "|```'X'``` |\tfilled x|  \n",
    "|```'D'``` |\tdiamond |\n",
    "|```'d'```|\tthin diamond |\n",
    "\n",
    "In addition to ```marker='<marker style>'```, the color of the marker edge, the color of the marker face and the size of the marker can be specified with:\n",
    "\n",
    "```python\n",
    "plt.plot( .... \n",
    "         markeredgecolor='<color abbreviation>',\n",
    "         markerfacecolor='<color abbreviation>',\n",
    "         markersize=<float or int>\n",
    "         ....)\n",
    "```\n"
   ]
  },
  {
   "cell_type": "markdown",
   "metadata": {},
   "source": [
    "#### Title\n",
    "\n",
    "The plot title will be shown above the plot. The ```plt.title()``` command accepts a string as an argument.\n",
    "\n",
    "```python\n",
    "plt.title('My Plot Title')\n",
    "```"
   ]
  },
  {
   "cell_type": "markdown",
   "metadata": {},
   "source": [
    "#### x-axis label\n",
    "\n",
    "The x-axis label is shown below the x-axis. The ```plt.xlabel()``` command accepts a string as an argument.\n",
    "\n",
    "```python\n",
    "plt.xlabel('My x-axis label')\n",
    "```"
   ]
  },
  {
   "cell_type": "markdown",
   "metadata": {},
   "source": [
    "#### y-axis label\n",
    "\n",
    "The y-axis label is shown to the left of the y-axis. The ```plt.ylabel()``` command also accepts a string as an argument.\n",
    "\n",
    "```python\n",
    "plt.ylabel('My y-axis label')\n",
    "```"
   ]
  },
  {
   "cell_type": "markdown",
   "metadata": {},
   "source": [
    "#### Legend\n",
    "\n",
    "You can use the ```plt.legend()``` command to insert a legend on a plot. The legend appears within the plot area, in the upper right corner by default. The ```plt.legend()``` command accepts a list of strings and optionally accepts a ```loc= ``` argument to specify the legend location.\n",
    "\n",
    "```python\n",
    "plt.legend(['entry1','entry2'], loc = 0)\n",
    "```\n",
    "\n",
    "The following are the legend location codes. These numbers need to be placed after ```loc= ``` in the ```plt.legend()``` call.\n",
    "\n",
    "| Legend Location | ```loc = <number>``` |\n",
    "| --- | --- |\n",
    "| 'best' | ```0``` |\n",
    "| 'upper right' | ```1``` |\n",
    "| 'upper left' | ```2``` |\n",
    "| 'lower left' | ```3``` |\n",
    "| 'lower right' | ```4``` |\n",
    "| 'right' | ```5``` |\n",
    "| 'center left' | ```6``` |\n",
    "| 'center right' | ```7``` |\n",
    "| 'lower center' | ```8``` |\n",
    "| 'upper center' | ```9``` |\n",
    "| 'center' | ```10``` |\n"
   ]
  },
  {
   "cell_type": "markdown",
   "metadata": {},
   "source": [
    "#### Grid\n",
    "\n",
    "A grid can be added to a Matplotlib plot using the ```plt.grid()``` command. By defaut, the grid is turned off. To turn on the grid use:\n",
    "\n",
    "```python\n",
    "plt.grid(True)\n",
    "```\n",
    "\n",
    "The only valid options are ```plt.grid(True)``` and ```plt.grid(False)```. Note that ```True``` and ```False``` are capitalized and are not enclosed in quotes."
   ]
  },
  {
   "cell_type": "markdown",
   "metadata": {},
   "source": [
    "#### Tick Labels\n",
    "\n",
    "Tick labels can be specified on a Matplotlib plot using ```plt.xticks()``` and ```plt.yticks()```. To add tick labels use:\n",
    "\n",
    "```python\n",
    "plt.xticks([locations list],[labels list])\n",
    "plt.yticks([locations list],[labels list])\n",
    "```\n",
    "\n",
    "The ```[locations list]``` can be a Python list or NumPy array of tick locations . The ```[labels list]``` is a Python list or NumPy array of strings."
   ]
  },
  {
   "cell_type": "markdown",
   "metadata": {},
   "source": [
    "### Build a plot in five steps"
   ]
  },
  {
   "cell_type": "markdown",
   "metadata": {},
   "source": [
    "The steps below show a logical progression to build a plot with Matplotlib:\n",
    "\n",
    "1. Imports\n",
    "2. Define data\n",
    "3. Plot data including options\n",
    "4. Add plot details\n",
    "5. Show the plot\n",
    "\n",
    "Details of each step is explained below.\n",
    "\n",
    "#### 1. Imports\n",
    "\n",
    "Import ```matplot.pyplot as plt```, as well as any other modules needed to work with the data such as NumPy or Pandas. If using a Jupyter notebook, include the line ```%matplotlib inline``` in the import section.\n",
    "\n",
    "#### 2. Define data\n",
    "\n",
    "The plot needs to contain data. Data is defined after the imports. Typically, data for plots is contained in Python lists, NumPy arrays or Pandas dataframes.\n",
    "\n",
    "#### 3. Plot data including options\n",
    "\n",
    "Use ```plt.plot()``` to plot the data you defined. Note the ```plt.plot()``` line needs to be called before any other plot details are specified. Otherwise, the details have no plot to apply to.\n",
    "\n",
    "Besides data, the ```plt.plot()``` function can include keyword arguments such as:\n",
    "\n",
    " * ```linewideth= <float or int>```\n",
    " * ```linestyle='<linestyle abbreviation>'```\n",
    " * ```color='<color abbreviation>'```\n",
    " * ```alpha= <float or int>```\n",
    " * ```marker='<marker abbreviation>'```\n",
    " * ```markeredgecolor='<color abbreviation>'```\n",
    " * ```markerfacecolor='<color abbreviation>'```\n",
    " * ```markersize=<float or int>```\n",
    "\n",
    "#### 4. Add plot details\n",
    "\n",
    "After the ```plt.plot()``` line, add details such as a title, axis labels, legend, grid, and tick labels. Plot details to add include:\n",
    "\n",
    "* ```plt.title('<title string>')```\n",
    "* ```plt.xlabel('<x-axis label string>')```\n",
    "* ```plt.ylabel('<y-axis label string>')```\n",
    "* ```plt.legend(['list','of','strings'])```\n",
    "* ```ptl.grid(<True or False>)```\n",
    "* ```plt.xticks([locations list or array], [labels list])```\n",
    "* ```plt.yticks([locations list or array], [labels list])```\n",
    "\n",
    "#### 5. Show the plot\n",
    "\n",
    "Use the ```plt.show()``` command to show the plot. ```plt.show()``` causes the plot to display in a Jupyter notebook or pop out in a new window if the plot is constructed in a separate **_.py_** file. Note that ```plt.show()``` needs to be called after ```plt.plot()``` and any plot details such as ```plt.title()```."
   ]
  },
  {
   "cell_type": "markdown",
   "metadata": {},
   "source": [
    "The next code section utilizes the 5 steps to build a plot. The resulting plot is shown after the code."
   ]
  },
  {
   "cell_type": "code",
   "execution_count": 4,
   "metadata": {},
   "outputs": [
    {
     "data": {
      "image/png": "[encoded data removed]",
      "text/plain": [
       "<Figure size 432x288 with 1 Axes>"
      ]
     },
     "metadata": {
      "needs_background": "light"
     },
     "output_type": "display_data"
    }
   ],
   "source": [
    "# 1. Imports\n",
    "import numpy as np\n",
    "import matplotlib.pyplot as plt\n",
    "# if using a Jupyter notebook, include:\n",
    "%matplotlib inline\n",
    "\n",
    "# 2. Define data\n",
    "x = np.arange(0, 4 * np.pi, 0.2)\n",
    "y = np.sin(x)\n",
    "\n",
    "# 3. Plot data including options\n",
    "plt.plot(x, y,\n",
    "    linewidth=0.5,\n",
    "    linestyle='--',\n",
    "    color='r',\n",
    "    marker='o',\n",
    "    markersize=10,\n",
    "    markerfacecolor=(1, 0, 0, 0.1))\n",
    "\n",
    "# 4. Add plot details\n",
    "plt.title('Plot of sin(x) vs x from 0 to 4 pi')\n",
    "plt.xlabel('x (0 to 4 pi)')\n",
    "plt.ylabel('sin(x)')\n",
    "plt.legend(['sin(x)']) # list containing one string\n",
    "plt.xticks(\n",
    "    np.arange(0, 4*np.pi + np.pi/2, np.pi/2),\n",
    "    ['0','pi/2','pi','3pi/2','2pi','5pi/2','3pi','7pi/2','4pi'])\n",
    "plt.grid(True)\n",
    "\n",
    "# 5. Show the plot\n",
    "plt.show()"
   ]
  },
  {
   "cell_type": "code",
   "execution_count": null,
   "metadata": {},
   "outputs": [],
   "source": []
  }
 ],
 "metadata": {
  "kernelspec": {
   "display_name": "Python 3",
   "language": "python",
   "name": "python3"
  },
  "language_info": {
   "codemirror_mode": {
    "name": "ipython",
    "version": 3
   },
   "file_extension": ".py",
   "mimetype": "text/x-python",
   "name": "python",
   "nbconvert_exporter": "python",
   "pygments_lexer": "ipython3",
   "version": "3.6.8"
  }
 },
 "nbformat": 4,
 "nbformat_minor": 2
}
