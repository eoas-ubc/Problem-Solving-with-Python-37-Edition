{
 "cells": [
  {
   "cell_type": "markdown",
   "metadata": {},
   "source": [
    "## Saving plots"
   ]
  },
  {
   "cell_type": "markdown",
   "metadata": {},
   "source": [
    "Matplotlib plots can be saved as image files using the ```plt.savefig()``` function.\n",
    "\n",
    "The ```plt.savefig()``` function needs to be called right above the ```plt.show()``` line. All the features of the plot must be specified before the plot is saved as an image file. If the figure is saved after the ```plt.show()``` command; the figure will not be saved until the plot window is closed. Calling ```plt.savefig()``` after calling ```plt.show()``` can be problematic when building plots in a Jupyter notebook with ```%matplotlib inline``` enabled.\n",
    "\n",
    "A standard ```savefig()``` command is:\n",
    "\n",
    "```python\n",
    "plt.savefig('plot.png', dpi=300, bbox_inches='tight')\n",
    "```\n",
    "\n",
    "Where ```'plot.png'``` is the name of the saved image file. Matplotlib infers the image file format (**_.png_**, **_.jpg_**, etc) based on the extension specified in the filename. \n",
    "\n",
    "The keyword argument ```dpi=``` specifies how many dots per inch (image resolution) are in the saved image. ```dpi=72``` is fine for web images. ```dpi=300``` is better for an image designed to go in a written report or **_.pdf_** document. \n",
    "\n",
    "The keyword argument ```bbox_inches='tight'``` is optional. If the axis labels in the plot are cut off in the saved image, set ```bbox_inches='tight'```.\n",
    "\n",
    "The following code section constructs a line plot and saves the plot to the image file **_plot.png_**."
   ]
  },
  {
   "cell_type": "code",
   "execution_count": 1,
   "metadata": {},
   "outputs": [
    {
     "data": {
      "image/png": "[encoded data removed]",
      "text/plain": [
       "<Figure size 432x288 with 1 Axes>"
      ]
     },
     "metadata": {
      "needs_background": "light"
     },
     "output_type": "display_data"
    }
   ],
   "source": [
    "import matplotlib.pyplot as plt\n",
    "# if using a Jupyter notebook, include:\n",
    "%matplotlib inline\n",
    "\n",
    "x = [0, 2, 4, 6]\n",
    "y = [1, 3, 4, 8]\n",
    "\n",
    "plt.plot(x,y)\n",
    "\n",
    "plt.xlabel('x values')\n",
    "plt.ylabel('y values')\n",
    "plt.title('plotted x and y values')\n",
    "plt.legend(['line 1'])\n",
    "\n",
    "# save the figure\n",
    "plt.savefig('plot.png', dpi=300, bbox_inches='tight')\n",
    "\n",
    "plt.show()"
   ]
  },
  {
   "cell_type": "code",
   "execution_count": null,
   "metadata": {},
   "outputs": [],
   "source": []
  }
 ],
 "metadata": {
  "kernelspec": {
   "display_name": "Python 3",
   "language": "python",
   "name": "python3"
  },
  "language_info": {
   "codemirror_mode": {
    "name": "ipython",
    "version": 3
   },
   "file_extension": ".py",
   "mimetype": "text/x-python",
   "name": "python",
   "nbconvert_exporter": "python",
   "pygments_lexer": "ipython3",
   "version": "3.8.4"
  }
 },
 "nbformat": 4,
 "nbformat_minor": 2
}
