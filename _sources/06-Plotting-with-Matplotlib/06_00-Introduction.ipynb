{
 "cells": [
  {
   "cell_type": "markdown",
   "metadata": {},
   "source": [
    "# Plotting with Matplotlib"
   ]
  },
  {
   "cell_type": "markdown",
   "metadata": {},
   "source": [
    "## Introduction"
   ]
  },
  {
   "cell_type": "markdown",
   "metadata": {
    "latex": {
     "after_cell": "newpage"
    }
   },
   "source": [
    "By the end of this chapter you will be able to:\n",
    "\n",
    " * Import Matplotlib into a Python script or Jupyter notebook\n",
    "\n",
    " * Construct line plots with Matplotlib\n",
    "\n",
    " * Use Matplotlib's object-oriented interface\n",
    "\n",
    " * Construct bar charts and pie charts with Matplotlib\n",
    "\n",
    " * Add error bars to bar charts and line plots\n",
    "\n",
    " * Plot histograms\n",
    " \n",
    " * Make box plots and violin plots\n",
    "\n",
    " * Plot contours\n",
    " \n",
    " * Create quiver plots and stream plots\n",
    "\n",
    " * Construct 3D mesh grid plots"
   ]
  },
  {
   "cell_type": "code",
   "execution_count": null,
   "metadata": {},
   "outputs": [],
   "source": []
  },
  {
   "cell_type": "markdown",
   "metadata": {},
   "source": [
    "```{toctree}\n",
    ":hidden:\n",
    ":titlesonly:\n",
    "\n",
    "\n",
    "06_01-What-is-Matplotlib.md\n",
    "06_02-Installing Matplotlib.md\n",
    "06_03-Line-Plots.md\n",
    "06_04-Saving-Plots.md\n",
    "06_05-Multi-Line-Plots.md\n",
    "06_06-Bar-Charts-and-Pie-Charts.md\n",
    "06_07-Error-Bars.md\n",
    "06_08-Histograms.md\n",
    "06_09-Box-Plots-and-Violin-Plots.md\n",
    "06_10-Scatter-Plots.md\n",
    "06_11-Plot-Annotations.md\n",
    "06_12-Subplots.md\n",
    "06_13-Plot-Styles.md\n",
    "06_14-Contour-Plots.md\n",
    "06_15-Quiver-and-Stream-Plots.md\n",
    "06_16-3D-Surface-Plots.md\n",
    "06_17-Summary.md\n",
    "06_18-Review-Questions.md\n",
    "```"
   ]
  }
 ],
 "metadata": {
  "jupytext": {
   "text_representation": {
    "extension": ".md",
    "format_name": "myst",
    "format_version": "0.9",
    "jupytext_version": "1.5.0"
   }
  },
  "kernelspec": {
   "display_name": "Python 3",
   "language": "python",
   "name": "python3"
  },
  "language_info": {
   "codemirror_mode": {
    "name": "ipython",
    "version": 3
   },
   "file_extension": ".py",
   "mimetype": "text/x-python",
   "name": "python",
   "nbconvert_exporter": "python",
   "pygments_lexer": "ipython3",
   "version": "3.8.5"
  },
  "source_map": [
   12,
   16,
   20,
   44,
   46
  ]
 },
 "nbformat": 4,
 "nbformat_minor": 4
}