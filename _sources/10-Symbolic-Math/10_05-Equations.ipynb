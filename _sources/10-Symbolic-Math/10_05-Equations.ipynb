{
 "cells": [
  {
   "cell_type": "markdown",
   "metadata": {},
   "source": [
    "## Equations"
   ]
  },
  {
   "cell_type": "markdown",
   "metadata": {},
   "source": [
    "You can define equations in Python using SymPy and symbolic math variables. _Equations_ in SymPy are different than _expressions_. An expression does not have equality. An expression is a collection of symbols and operators, but expressions are not equal to anything. Equations have equality. An equation can be thought of as an expression equal to something else.\n",
    "\n",
    "A code section that defines the equation $4x + 2 = 0$ is below. Note all equations defined in SymPy are assumed to equal zero."
   ]
  },
  {
   "cell_type": "code",
   "execution_count": 1,
   "metadata": {},
   "outputs": [
    {
     "name": "stderr",
     "output_type": "stream",
     "text": [
      "/opt/conda/lib/python3.8/site-packages/mpmath/ctx_mp_python.py:892: SyntaxWarning: \"is\" with a literal. Did you mean \"==\"?\n",
      "  if other is 0:\n",
      "/opt/conda/lib/python3.8/site-packages/mpmath/ctx_mp_python.py:986: SyntaxWarning: \"is\" with a literal. Did you mean \"==\"?\n",
      "  if other is 0:\n"
     ]
    },
    {
     "name": "stderr",
     "output_type": "stream",
     "text": [
      "/opt/conda/lib/python3.8/site-packages/sympy/core/relational.py:486: SymPyDeprecationWarning: \n",
      "\n",
      "Eq(expr) with rhs default to 0 has been deprecated since SymPy 1.5.\n",
      "Use Eq(expr, 0) instead. See\n",
      "https://github.com/sympy/sympy/issues/16587 for more info.\n",
      "\n",
      "  SymPyDeprecationWarning(\n"
     ]
    }
   ],
   "source": [
    "from sympy import symbols, Eq\n",
    "\n",
    "x = symbols('x')\n",
    "\n",
    "eq1 = Eq(4*x + 2)"
   ]
  },
  {
   "cell_type": "markdown",
   "metadata": {},
   "source": [
    "If you want to define the equation $2y - x = 5$, which is not equal to zero, you just have to subtract the right hand side of the equation from the left hand side of the equation first.\n",
    "\n",
    "$$2y - x = 5$$\n",
    "\n",
    "$$2y - x -5 = 0$$"
   ]
  },
  {
   "cell_type": "code",
   "execution_count": 2,
   "metadata": {},
   "outputs": [],
   "source": [
    "x, y = symbols('x y')\n",
    "\n",
    "eq2 = Eq(2*y - x - 5)"
   ]
  },
  {
   "cell_type": "markdown",
   "metadata": {},
   "source": [
    "Alternatively, an equation can be defined with a left hand side and a right hand side passed as separate arguments."
   ]
  },
  {
   "cell_type": "code",
   "execution_count": 3,
   "metadata": {},
   "outputs": [],
   "source": [
    "x, y = symbols('x y')\n",
    "\n",
    "eq2 = Eq(2*y - x, 5)"
   ]
  },
  {
   "cell_type": "markdown",
   "metadata": {},
   "source": [
    "### Substitutions in Equations\n",
    "\n",
    "Symbols and expressions can be substituted into equations. In the code section below, the variable $z$ is substituted in for the variable $x$ ($z$ replaces $x$)."
   ]
  },
  {
   "cell_type": "code",
   "execution_count": 4,
   "metadata": {},
   "outputs": [
    {
     "data": {
      "text/latex": [
       "$\\displaystyle 2 y - z - 5 = 0$"
      ],
      "text/plain": [
       "Eq(2*y - z - 5, 0)"
      ]
     },
     "execution_count": 4,
     "metadata": {},
     "output_type": "execute_result"
    }
   ],
   "source": [
    "x, y, z = symbols('x y z')\n",
    "\n",
    "eq2 = Eq(2*y - x - 5)\n",
    "eq3 = eq2.subs(x,z)\n",
    "eq3"
   ]
  },
  {
   "cell_type": "code",
   "execution_count": null,
   "metadata": {},
   "outputs": [],
   "source": []
  }
 ],
 "metadata": {
  "jupytext": {
   "text_representation": {
    "extension": ".md",
    "format_name": "myst",
    "format_version": "0.9",
    "jupytext_version": "1.5.0"
   }
  },
  "kernelspec": {
   "display_name": "Python 3",
   "language": "python",
   "name": "python3"
  },
  "language_info": {
   "codemirror_mode": {
    "name": "ipython",
    "version": 3
   },
   "file_extension": ".py",
   "mimetype": "text/x-python",
   "name": "python",
   "nbconvert_exporter": "python",
   "pygments_lexer": "ipython3",
   "version": "3.8.5"
  },
  "source_map": [
   12,
   16,
   22,
   28,
   36,
   40,
   44,
   48,
   54,
   62
  ]
 },
 "nbformat": 4,
 "nbformat_minor": 4
}