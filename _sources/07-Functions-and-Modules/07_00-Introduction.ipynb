{
 "cells": [
  {
   "cell_type": "markdown",
   "metadata": {},
   "source": [
    "# Functions and Modules"
   ]
  },
  {
   "cell_type": "markdown",
   "metadata": {},
   "source": [
    "## Introduction"
   ]
  },
  {
   "cell_type": "markdown",
   "metadata": {
    "latex": {
     "after_cell": "newpage"
    }
   },
   "source": [
    "In computer programming, functions are a way to bundle multiple lines of code together to run as one block of code. Many functions accept input, called arguments, and produce output. Python has many built-in functions such as ```type()```, ```len()``` and ```pow()```. In this chapter you will learn how to create user-defined functions in Python.\n",
    "\n",
    "By the end of this chapter you will be able to:\n",
    "\n",
    " * Call functions in Python\n",
    " \n",
    " * Import functions into Python scripts\n",
    " \n",
    " * Create user-defined functions \n",
    "    \n",
    " * Create functions with default arguments\n",
    " \n",
    " * Utilize functions with positional and keyword arguments\n",
    " \n",
    " * Write reusable code for other problem solvers to use"
   ]
  },
  {
   "cell_type": "code",
   "execution_count": null,
   "metadata": {},
   "outputs": [],
   "source": []
  },
  {
   "cell_type": "markdown",
   "metadata": {},
   "source": [
    "```{toctree}\n",
    ":hidden:\n",
    ":titlesonly:\n",
    "\n",
    "\n",
    "07_01-Why-Functions.md\n",
    "07_02-First-Function.md\n",
    "07_03-Functions-with-multiple-arguments.md\n",
    "07_04-Functions-with-default-arguments.md\n",
    "07_05-Calling-Functions-from-Other-Files.md\n",
    "07_06-Docstrings-in-Functions.md\n",
    "07_07-Positional-and-Keyword-Arguments.md\n",
    "07_08-Summary.md\n",
    "07_09-Review-Questions.md\n",
    "```"
   ]
  }
 ],
 "metadata": {
  "jupytext": {
   "text_representation": {
    "extension": ".md",
    "format_name": "myst",
    "format_version": "0.9",
    "jupytext_version": "1.5.0"
   }
  },
  "kernelspec": {
   "display_name": "Python 3",
   "language": "python",
   "name": "python3"
  },
  "language_info": {
   "codemirror_mode": {
    "name": "ipython",
    "version": 3
   },
   "file_extension": ".py",
   "mimetype": "text/x-python",
   "name": "python",
   "nbconvert_exporter": "python",
   "pygments_lexer": "ipython3",
   "version": "3.8.5"
  },
  "source_map": [
   12,
   16,
   20,
   39,
   41
  ]
 },
 "nbformat": 4,
 "nbformat_minor": 4
}