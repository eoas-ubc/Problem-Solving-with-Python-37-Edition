{
 "cells": [
  {
   "cell_type": "markdown",
   "metadata": {},
   "source": [
    "## Calling Functions from Other Files"
   ]
  },
  {
   "cell_type": "markdown",
   "metadata": {},
   "source": [
    "User-defined functions can be called from other files. A function can be called and run in a different file than the file where the function is defined.\n",
    "\n",
    "If a new file called **_myfunctions.py_** is created and contains two function definitions, ```plustwo()``` and ```falldist()```, the functions ```plustwo()``` and ```falldist()``` can be used by a separate script as long as the file and function names are imported in the separate script first. It is essential that the file which contains the function definitions ends in the **_.py_** extension. Without a **_.py_** extension, the file where the functions are defined can not be imported."
   ]
  },
  {
   "cell_type": "markdown",
   "metadata": {},
   "source": [
    "Inside the file **_myfuctions.py_**, two functions are defined using the code below.\n",
    "\n",
    "```python\n",
    "# myfunctions.py\n",
    "\n",
    "def plustwo(n):\n",
    "    out = n + 2\n",
    "    return out\n",
    "\n",
    "\n",
    "def falldist(t,g=9.81):\n",
    "    d = 0.5 * g * t**2\n",
    "    return d\n",
    "```"
   ]
  },
  {
   "cell_type": "markdown",
   "metadata": {},
   "source": [
    "This file, **_myfunctions.py_** can be imported into another script (another **_.py_** file), or Jupyter Notebook.\n",
    "\n",
    "**Remember the file that contains the function definitions and the file calling the functions must be in the same directory.**\n",
    "\n",
    "To use the functions written in one file inside another file include the import line, ```from filename import function_name```. Note that although the file name must contain a **_.py_** extension, ```.py``` is not used as part of the filename during import.\n",
    "\n",
    "The general syntax to import and call a function from a separate file is below:\n",
    "\n",
    "```text\n",
    "from function_file import function_name\n",
    "\n",
    "function_name(arguments)\n",
    "```\n",
    "\n",
    "An example using this syntax with the **_myfunctions.py_** file and the function ```plustwo()``` is below:"
   ]
  },
  {
   "cell_type": "code",
   "execution_count": 1,
   "metadata": {},
   "outputs": [
    {
     "data": {
      "text/plain": [
       "5"
      ]
     },
     "execution_count": 1,
     "metadata": {},
     "output_type": "execute_result"
    }
   ],
   "source": [
    "from myfunctions import plustwo\n",
    "\n",
    "plustwo(3)"
   ]
  },
  {
   "cell_type": "markdown",
   "metadata": {},
   "source": [
    "Multiple functions can be imported from the same file by separating the imported functions with commas. The general syntax to import and call multiple functions from the same file is below:\n",
    "\n",
    "```text\n",
    "from function_file import function_name1, function_name2\n",
    "\n",
    "function_name1(arguments)\n",
    "function_name2(arguments)\n",
    "```\n",
    "\n",
    "An example using this syntax with the **_myfunctions.py_** file and the functions ```plustwo()``` and ```falldist()``` is below:"
   ]
  },
  {
   "cell_type": "code",
   "execution_count": 2,
   "metadata": {},
   "outputs": [
    {
     "name": "stdout",
     "output_type": "stream",
     "text": [
      "44.145 5\n"
     ]
    }
   ],
   "source": [
    "from myfunctions import falldist, plustwo\n",
    "\n",
    "out1 = falldist(3)\n",
    "out2 = plustwo(3)\n",
    "\n",
    "print(out1, out2)"
   ]
  },
  {
   "cell_type": "markdown",
   "metadata": {},
   "source": [
    "Another way to import and use the functions from **_myfunctions.py_** into another script or Jupyter notebook is to import the entire **_myfunctions.py_** file with ```import myfunctions```, then call the functions with the syntax below. \n",
    "\n",
    "```text\n",
    "import function_file\n",
    "\n",
    "function_file.function_name()\n",
    "```\n",
    "\n",
    "An example using this syntax with the **_myfunctions.py_** file is below."
   ]
  },
  {
   "cell_type": "code",
   "execution_count": 3,
   "metadata": {},
   "outputs": [
    {
     "data": {
      "text/plain": [
       "5"
      ]
     },
     "execution_count": 3,
     "metadata": {},
     "output_type": "execute_result"
    }
   ],
   "source": [
    "import myfunctions\n",
    "\n",
    "myfunctions.plustwo(3)"
   ]
  },
  {
   "cell_type": "code",
   "execution_count": 4,
   "metadata": {},
   "outputs": [
    {
     "data": {
      "text/plain": [
       "44.145"
      ]
     },
     "execution_count": 4,
     "metadata": {},
     "output_type": "execute_result"
    }
   ],
   "source": [
    "import myfunctions\n",
    "\n",
    "myfunctions.falldist(3)"
   ]
  },
  {
   "cell_type": "code",
   "execution_count": null,
   "metadata": {},
   "outputs": [],
   "source": []
  }
 ],
 "metadata": {
  "kernelspec": {
   "display_name": "Python 3",
   "language": "python",
   "name": "python3"
  },
  "language_info": {
   "codemirror_mode": {
    "name": "ipython",
    "version": 3
   },
   "file_extension": ".py",
   "mimetype": "text/x-python",
   "name": "python",
   "nbconvert_exporter": "python",
   "pygments_lexer": "ipython3",
   "version": "3.6.8"
  }
 },
 "nbformat": 4,
 "nbformat_minor": 2
}
