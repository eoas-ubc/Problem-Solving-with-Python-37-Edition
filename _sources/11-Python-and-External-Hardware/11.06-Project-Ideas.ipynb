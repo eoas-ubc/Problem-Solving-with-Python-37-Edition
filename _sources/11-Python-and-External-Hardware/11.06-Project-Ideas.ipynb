{
 "cells": [
  {
   "cell_type": "markdown",
   "metadata": {},
   "source": [
    "## Project Ideas"
   ]
  },
  {
   "cell_type": "markdown",
   "metadata": {},
   "source": [
    "P11.01 Use Python and  PySerial measure light levels using a photoresistor connected to an Arduino.\n",
    "\n",
    "P11.02 Use Python and PySerial to  control a relay connected to an Arduino\n",
    "\n",
    "P11.03 Use Python and PySerial to  read a pH sensor connected to an Arduino\n",
    "\n",
    "P11.04 Use Python and PySerial to read a photosensor connected to an Arduino and turn on and off an LED based on light level.\n",
    "\n",
    "\n",
    "P11.05 Use Python and PySerial to read a temperature connected to an Arduino and send temperature measurements up to an IoT cloud server, like io.adafruit.com using the Requests package.\n",
    "\n",
    "P11.06 Use Python and PySerial to turn on and off an LED connected to an Arduino based on values stored on an IoT cloud server, like io.adafruit.com, using the Requests package."
   ]
  },
  {
   "cell_type": "code",
   "execution_count": null,
   "metadata": {},
   "outputs": [],
   "source": []
  }
 ],
 "metadata": {
  "celltoolbar": "Edit Metadata",
  "kernelspec": {
   "display_name": "Python 3",
   "language": "python",
   "name": "python3"
  },
  "language_info": {
   "codemirror_mode": {
    "name": "ipython",
    "version": 3
   },
   "file_extension": ".py",
   "mimetype": "text/x-python",
   "name": "python",
   "nbconvert_exporter": "python",
   "pygments_lexer": "ipython3",
   "version": "3.7.3"
  }
 },
 "nbformat": 4,
 "nbformat_minor": 2
}
