{
 "cells": [
  {
   "cell_type": "markdown",
   "metadata": {},
   "source": [
    "# Python and External Hardware"
   ]
  },
  {
   "cell_type": "markdown",
   "metadata": {},
   "source": [
    "## Introduction"
   ]
  },
  {
   "cell_type": "markdown",
   "metadata": {
    "latex": {
     "after_cell": "newpage"
    }
   },
   "source": [
    "By the end of this chapter you will be able to:\n",
    "\n",
    " * Connect external hardware to a computer running Python\n",
    " \n",
    " * Install the PySerial library\n",
    " \n",
    " * Read data over a serial connection using Python\n",
    " \n",
    " * Save data coming in over a serial connection using Python\n",
    " \n",
    " * Write data to a serial line using Python\n",
    " \n",
    " * Read data from a sensor using Python\n",
    " \n",
    " * Control an LED using Python"
   ]
  },
  {
   "cell_type": "code",
   "execution_count": null,
   "metadata": {},
   "outputs": [],
   "source": []
  },
  {
   "cell_type": "markdown",
   "metadata": {},
   "source": [
    "```{toctree}\n",
    ":hidden:\n",
    ":titlesonly:\n",
    "\n",
    "\n",
    "11_01-PySerial.md\n",
    "11_02-Bytes-and-Unicode-Strings.md\n",
    "11_03-Controlling-an-LED.md\n",
    "11_04-Reading-a-Sensor-with-Python.md\n",
    "11_05-Summary.md\n",
    "11_06-Project-Ideas.md\n",
    "```"
   ]
  }
 ],
 "metadata": {
  "jupytext": {
   "text_representation": {
    "extension": ".md",
    "format_name": "myst",
    "format_version": "0.9",
    "jupytext_version": "1.5.0"
   }
  },
  "kernelspec": {
   "display_name": "Python 3",
   "language": "python",
   "name": "python3"
  },
  "language_info": {
   "codemirror_mode": {
    "name": "ipython",
    "version": 3
   },
   "file_extension": ".py",
   "mimetype": "text/x-python",
   "name": "python",
   "nbconvert_exporter": "python",
   "pygments_lexer": "ipython3",
   "version": "3.8.5"
  },
  "source_map": [
   12,
   16,
   20,
   38,
   40
  ]
 },
 "nbformat": 4,
 "nbformat_minor": 4
}