{
 "cells": [
  {
   "cell_type": "markdown",
   "metadata": {},
   "source": [
    "## PySerial"
   ]
  },
  {
   "cell_type": "markdown",
   "metadata": {},
   "source": [
    "PySerial is a Python package that facilitates serial communication. A computer running Python with the PySerial package installed can communicate with external hardware.  PySerial is a useful package for problem solvers because it allows us to exchange data between computers and pieces of external hardware such as voltmeters, oscilloscopes, strain gauges, flow meters, actuators, and lights.\n",
    "\n",
    "PySerial provides an interface to communicate over the _serial_ communication protocol. Serial communication is one of the oldest computer communication protocols. Serial communication protocol predates the USB specification used by computers and other pieces of hardware like mice, keyboards, and webcams. USB stands for Universal Serial Bus. USB and is built upon and extends the original serial communication interface."
   ]
  },
  {
   "cell_type": "markdown",
   "metadata": {},
   "source": [
    "### Installing PySerial"
   ]
  },
  {
   "cell_type": "markdown",
   "metadata": {},
   "source": [
    "To use the PySerial package with Python, PySerial first needs to be installed.  If you installed the full Anaconda distribution of Python, PySerial comes pre-installed. If you do have the full Anaconda distribution of Python installed, PySerial can be installed using the **Anaconda Prompt**. \n",
    "\n",
    "```text\n",
    "> conda install pyserial\n",
    "```\n",
    "\n",
    "Alternatively, PySerial can be installed on the command line using **pip**:\n",
    "\n",
    "```text\n",
    "$ pip install pyserial\n",
    "```\n",
    "\n",
    "After PySerial is installed, the installation can be confirmed at the Python REPL:"
   ]
  },
  {
   "cell_type": "code",
   "execution_count": null,
   "metadata": {},
   "outputs": [],
   "source": [
    ">>> import serial\n",
    ">>> print(serial.__version__)"
   ]
  },
  {
   "cell_type": "markdown",
   "metadata": {},
   "source": [
    "**NOTE: Even though the command to install PySerial was** ```> conda install pyserial```, **the PySerial module is imported with the line** ```import serial```**.**"
   ]
  },
  {
   "cell_type": "code",
   "execution_count": null,
   "metadata": {},
   "outputs": [],
   "source": []
  }
 ],
 "metadata": {
  "jupytext": {
   "text_representation": {
    "extension": ".md",
    "format_name": "myst",
    "format_version": "0.9",
    "jupytext_version": "1.5.0"
   }
  },
  "kernelspec": {
   "display_name": "Python 3",
   "language": "python",
   "name": "python3"
  },
  "language_info": {
   "file_extension": ".txt"
  },
  "source_map": [
   12,
   16,
   22,
   26,
   42,
   45,
   49
  ]
 },
 "nbformat": 4,
 "nbformat_minor": 4
}