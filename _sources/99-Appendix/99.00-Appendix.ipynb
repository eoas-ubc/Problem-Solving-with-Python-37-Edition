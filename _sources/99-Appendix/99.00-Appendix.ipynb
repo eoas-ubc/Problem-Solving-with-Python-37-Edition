{
 "cells": [
  {
   "cell_type": "markdown",
   "metadata": {},
   "source": [
    "# Appendix"
   ]
  },
  {
   "cell_type": "markdown",
   "metadata": {},
   "source": [
    "## Contents"
   ]
  },
  {
   "cell_type": "markdown",
   "metadata": {
    "latex": {
     "after_cell": "newpage"
    }
   },
   "source": [
    "The following is detailed in the appendix:\n",
    "\n",
    " * Reserved and Key Words in Python\n",
    " \n",
    " * ASCII Character Codes\n",
    " \n",
    " * Virtual Environments\n",
    " \n",
    " * NumPy Math Functions\n",
    " \n",
    " * Git and GitHub\n",
    " \n",
    " * LaTeX Math\n",
    " \n",
    " * Problem Solving with Python 3.7 Edition Book Construction\n",
    " \n",
    " * Contributions\n",
    " \n",
    " * Cover Artwork\n",
    " \n",
    " * About the author"
   ]
  },
  {
   "cell_type": "code",
   "execution_count": null,
   "metadata": {},
   "outputs": [],
   "source": []
  }
 ],
 "metadata": {
  "celltoolbar": "Edit Metadata",
  "kernelspec": {
   "display_name": "Python 3",
   "language": "python",
   "name": "python3"
  },
  "language_info": {
   "codemirror_mode": {
    "name": "ipython",
    "version": 3
   },
   "file_extension": ".py",
   "mimetype": "text/x-python",
   "name": "python",
   "nbconvert_exporter": "python",
   "pygments_lexer": "ipython3",
   "version": "3.6.8"
  }
 },
 "nbformat": 4,
 "nbformat_minor": 2
}
