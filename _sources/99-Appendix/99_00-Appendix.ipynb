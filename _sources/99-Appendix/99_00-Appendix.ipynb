{
 "cells": [
  {
   "cell_type": "markdown",
   "metadata": {},
   "source": [
    "# Appendix"
   ]
  },
  {
   "cell_type": "markdown",
   "metadata": {},
   "source": [
    "## Contents"
   ]
  },
  {
   "cell_type": "markdown",
   "metadata": {
    "latex": {
     "after_cell": "newpage"
    }
   },
   "source": [
    "The following is detailed in the appendix:\n",
    "\n",
    " * Reserved and Key Words in Python\n",
    " \n",
    " * ASCII Character Codes\n",
    " \n",
    " * Virtual Environments\n",
    " \n",
    " * NumPy Math Functions\n",
    " \n",
    " * Git and GitHub\n",
    " \n",
    " * LaTeX Math\n",
    " \n",
    " * Problem Solving with Python 3.7 Edition Book Construction\n",
    " \n",
    " * Contributions\n",
    " \n",
    " * Cover Artwork\n",
    " \n",
    " * About the author"
   ]
  },
  {
   "cell_type": "code",
   "execution_count": null,
   "metadata": {},
   "outputs": [],
   "source": []
  },
  {
   "cell_type": "markdown",
   "metadata": {},
   "source": [
    "```{toctree}\n",
    ":hidden:\n",
    ":titlesonly:\n",
    "\n",
    "\n",
    "99_01-Reserved-and-Key-Words-in-Python.md\n",
    "99_02-ASCII-Character-Codes.md\n",
    "99_03-Virtual-Environments.md\n",
    "99_04-NumPy-Math-Functions.md\n",
    "99_05-Git-and-GitHub.md\n",
    "99_06-LaTeX-Math.md\n",
    "99_07-Problem-Solving-with-Python-Book-Construction.md\n",
    "99_08-Contributions.md\n",
    "99_09-Cover-Artwork.md\n",
    "99_10-About-the-Author.md\n",
    "```"
   ]
  }
 ],
 "metadata": {
  "jupytext": {
   "text_representation": {
    "extension": ".md",
    "format_name": "myst",
    "format_version": "0.9",
    "jupytext_version": "1.5.0"
   }
  },
  "kernelspec": {
   "display_name": "Python 3",
   "language": "python",
   "name": "python3"
  },
  "language_info": {
   "codemirror_mode": {
    "name": "ipython",
    "version": 3
   },
   "file_extension": ".py",
   "mimetype": "text/x-python",
   "name": "python",
   "nbconvert_exporter": "python",
   "pygments_lexer": "ipython3",
   "version": "3.8.5"
  },
  "source_map": [
   12,
   16,
   20,
   44,
   46
  ]
 },
 "nbformat": 4,
 "nbformat_minor": 4
}