{
 "cells": [
  {
   "cell_type": "markdown",
   "metadata": {},
   "source": [
    "## Cover Artwork"
   ]
  },
  {
   "cell_type": "markdown",
   "metadata": {},
   "source": [
    "Mike Schultz is a printmaker and illustrator who has taught art to Burmese migrant youth on the Thailand-Burma border. He currently lives and works in Portland, Oregon with his cat, Siam.\n",
    "\n",
    "Instagram: [```@mike_schultz_studio```](https://www.instagram.com/mike_schultz_studio/)\n",
    "\n",
    "Website: [mikeschultzstudio.com](http://mikeschultzstudio.squarespace.com/)"
   ]
  },
  {
   "cell_type": "code",
   "execution_count": null,
   "metadata": {},
   "outputs": [],
   "source": []
  }
 ],
 "metadata": {
  "kernelspec": {
   "display_name": "Python 3",
   "language": "python",
   "name": "python3"
  },
  "language_info": {
   "codemirror_mode": {
    "name": "ipython",
    "version": 3
   },
   "file_extension": ".py",
   "mimetype": "text/x-python",
   "name": "python",
   "nbconvert_exporter": "python",
   "pygments_lexer": "ipython3",
   "version": "3.6.8"
  }
 },
 "nbformat": 4,
 "nbformat_minor": 2
}
