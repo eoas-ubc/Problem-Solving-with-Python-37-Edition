{
 "cells": [
  {
   "cell_type": "markdown",
   "metadata": {},
   "source": [
    "## NumPy Math Functions"
   ]
  },
  {
   "cell_type": "markdown",
   "metadata": {},
   "source": [
    "The code below prints out all NumPy functions and methods:\n",
    "\n",
    "```python\n",
    "import numpy as np\n",
    "for func in dir(np):\n",
    "    print(func)\n",
    "```"
   ]
  },
  {
   "cell_type": "markdown",
   "metadata": {},
   "source": [
    "### NumPy Array Creation and Manipulation Functions and Methods"
   ]
  },
  {
   "cell_type": "markdown",
   "metadata": {
    "latex": {
     "environment": "key_terms"
    }
   },
   "source": [
    "```\n",
    "np.array\n",
    "np.arange\n",
    "np.ndarray\n",
    "np.zeros\n",
    "np.ones\n",
    "np.matrix\n",
    "np.traspose\n",
    "np.size\n",
    "np.shape\n",
    "np.reshape\n",
    "np.meshgrid\n",
    "np.dot\n",
    "np.cross\n",
    "np.asmatrix\n",
    "np.asarray\n",
    "```\n"
   ]
  },
  {
   "cell_type": "markdown",
   "metadata": {},
   "source": [
    "### NumPy Exponential and Logarithmic Functions and Methods"
   ]
  },
  {
   "cell_type": "markdown",
   "metadata": {
    "latex": {
     "environment": "key_terms"
    }
   },
   "source": [
    "```\n",
    "np.log\n",
    "np.log10\n",
    "np.log1p\n",
    "np.log2\n",
    "np.logaddexp\n",
    "np.logaddexp2\n",
    "np.exp\n",
    "np.exp2\n",
    "np.sqrt\n",
    "np.power\n",
    "np.e\n",
    "```\n"
   ]
  },
  {
   "cell_type": "markdown",
   "metadata": {},
   "source": [
    "### NumPy Trigonometric Functions and Methods"
   ]
  },
  {
   "cell_type": "markdown",
   "metadata": {
    "latex": {
     "environment": "key_terms"
    }
   },
   "source": [
    "```\n",
    "np.pi\n",
    "np.sin\n",
    "np.cos\n",
    "np.tan\n",
    "np.arcsin\n",
    "np.arccos\n",
    "np.arctan\n",
    "np.arcsinh\n",
    "np.arccosh\n",
    "np.arctanh\n",
    "np.arctan2\n",
    "np.radians\n",
    "np.rad2deg\n",
    "np.deg2rad\n",
    "np.radians\n",
    "np.sinc\n",
    "np.sinh\n",
    "np.tanh\n",
    "np.angle\n",
    "```\n"
   ]
  },
  {
   "cell_type": "markdown",
   "metadata": {},
   "source": [
    "### NumPy Statistics Functions and Methods"
   ]
  },
  {
   "cell_type": "markdown",
   "metadata": {
    "latex": {
     "environment": "key_terms"
    }
   },
   "source": [
    "```\n",
    "np.mean\n",
    "np.average\n",
    "np.median\n",
    "np.std\n",
    "np.var\n",
    "np.correlate\n",
    "np.histogram\n",
    "np.amin\n",
    "np.amax\n",
    "np.ptp\n",
    "np.percentile\n",
    "```\n"
   ]
  },
  {
   "cell_type": "code",
   "execution_count": null,
   "metadata": {},
   "outputs": [],
   "source": []
  }
 ],
 "metadata": {
  "celltoolbar": "Edit Metadata",
  "kernelspec": {
   "display_name": "Python 3",
   "language": "python",
   "name": "python3"
  },
  "language_info": {
   "codemirror_mode": {
    "name": "ipython",
    "version": 3
   },
   "file_extension": ".py",
   "mimetype": "text/x-python",
   "name": "python",
   "nbconvert_exporter": "python",
   "pygments_lexer": "ipython3",
   "version": "3.7.3"
  }
 },
 "nbformat": 4,
 "nbformat_minor": 2
}
