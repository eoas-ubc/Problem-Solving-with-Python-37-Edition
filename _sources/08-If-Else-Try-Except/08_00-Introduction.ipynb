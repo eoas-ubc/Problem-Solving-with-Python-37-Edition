{
 "cells": [
  {
   "cell_type": "markdown",
   "metadata": {},
   "source": [
    "# If Else Try Except"
   ]
  },
  {
   "cell_type": "markdown",
   "metadata": {},
   "source": [
    "## Introduction"
   ]
  },
  {
   "cell_type": "markdown",
   "metadata": {
    "latex": {
     "after_cell": "newpage"
    }
   },
   "source": [
    "In computer programming, selection structures run sections of code based on logical conditions. In this chapter you will learn about the selections structures if, else, and else if. The end of the chapter introduces another selection structure, the try / except block.\n",
    "\n",
    "By the end of this chapter you will be able to:\n",
    "\n",
    " * Utilize Python's ```input()``` function\n",
    "\n",
    " * Use if, else if, and else selection structures\n",
    " \n",
    " * Explain the difference between syntax errors and exception errors\n",
    " \n",
    " * Use try-except statements\n",
    " \n",
    " * Construct flowcharts to describe the flow of a Python program"
   ]
  },
  {
   "cell_type": "code",
   "execution_count": null,
   "metadata": {},
   "outputs": [],
   "source": []
  },
  {
   "cell_type": "markdown",
   "metadata": {},
   "source": [
    "```{toctree}\n",
    ":hidden:\n",
    ":titlesonly:\n",
    "\n",
    "\n",
    "08_01-User-Input.md\n",
    "08_02-Selection-Statements.md\n",
    "08_03-If-Statements.md\n",
    "08_04-If-Else-Statements.md\n",
    "08_05-Try-Except-Statements.md\n",
    "08_06-Flowcharts.md\n",
    "08_07-Summary.md\n",
    "08_08-Review-Questions.md\n",
    "```"
   ]
  }
 ],
 "metadata": {
  "jupytext": {
   "text_representation": {
    "extension": ".md",
    "format_name": "myst",
    "format_version": "0.9",
    "jupytext_version": "1.5.0"
   }
  },
  "kernelspec": {
   "display_name": "Python 3",
   "language": "python",
   "name": "python3"
  },
  "language_info": {
   "codemirror_mode": {
    "name": "ipython",
    "version": 3
   },
   "file_extension": ".py",
   "mimetype": "text/x-python",
   "name": "python",
   "nbconvert_exporter": "python",
   "pygments_lexer": "ipython3",
   "version": "3.8.5"
  },
  "source_map": [
   12,
   16,
   20,
   36,
   38
  ]
 },
 "nbformat": 4,
 "nbformat_minor": 4
}