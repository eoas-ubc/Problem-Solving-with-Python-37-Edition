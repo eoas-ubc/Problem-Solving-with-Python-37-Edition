{
 "cells": [
  {
   "cell_type": "markdown",
   "metadata": {},
   "source": [
    "## User Input"
   ]
  },
  {
   "cell_type": "markdown",
   "metadata": {},
   "source": [
    "To begin this chapter, Python's ```input()``` function is discussed."
   ]
  },
  {
   "cell_type": "markdown",
   "metadata": {},
   "source": [
    "Python can be used to ask users for input. The input entered by a user can be saved to a variable and used in subsequent parts of the program. The syntax of Python's ```input()``` function is below:\n",
    "\n",
    "```\n",
    "var = input('message')\n",
    "```\n",
    "\n",
    "Where ```var``` is the variable that stores the user's input and ```'message'``` is the message the user sees at the prompt. A string enclosed in quotes, like ```'message'```, needs to be passed as an input argument to the ```input()``` function.  Let's ask a user for their age:"
   ]
  },
  {
   "cell_type": "code",
   "execution_count": null,
   "metadata": {},
   "outputs": [],
   "source": [
    "age = input('how old are you? ')"
   ]
  },
  {
   "cell_type": "markdown",
   "metadata": {},
   "source": [
    "Since the user's input is assigned to a variable, further operations can be run on it. Now, let's print the user's age back to them. This can be accomplished with an f-string. Note the ```f' '``` inserted before the string. A set of curly braces ```{  }``` surrounds the variable's name and the variable's value is printed back to the user."
   ]
  },
  {
   "cell_type": "code",
   "execution_count": null,
   "metadata": {},
   "outputs": [],
   "source": [
    "age = input('how old are you? ')\n",
    "print(f'you are {age} years old')"
   ]
  },
  {
   "cell_type": "markdown",
   "metadata": {},
   "source": [
    "Let's try another example. We will we ask the user for the base and height of a triangle and print out the area of the triangle. \n",
    "\n",
    "But, there is a problem with the approach below. The code block does not run because a common error is present."
   ]
  },
  {
   "cell_type": "code",
   "execution_count": null,
   "metadata": {},
   "outputs": [],
   "source": [
    "b = input('base of triangle: ')\n",
    "h = input('height of triangle: ')\n",
    "A = (1/2)*b*h\n",
    "print(f'The area of the triangle is: {A}')"
   ]
  },
  {
   "cell_type": "markdown",
   "metadata": {},
   "source": [
    "The previous section of code returns an error because of the _data type_ of the variables ```b``` and ```h```. We can investigate ```b``` and ```h```'s data type with Python's ```type()``` function."
   ]
  },
  {
   "cell_type": "code",
   "execution_count": null,
   "metadata": {},
   "outputs": [],
   "source": [
    "b = input('base of triangle: ')\n",
    "h = input('height of triangle: ')\n",
    "print(f'b and h are of type: {type(b)}, {type(h)}')"
   ]
  },
  {
   "cell_type": "markdown",
   "metadata": {},
   "source": [
    "Notice both ```b``` and ```h``` are strings, even though the numbers ```5``` and ```2``` were entered as input. The output of the ```input()``` function is always a string, even if the user enters a number. \n",
    "\n",
    "To complete the area calculation, ```b``` and ```h``` first need to be converted to floats using Python's ```float()``` function, then the mathematical operation will run without error:"
   ]
  },
  {
   "cell_type": "code",
   "execution_count": null,
   "metadata": {},
   "outputs": [],
   "source": [
    "b = input('base of triangle: ')\n",
    "h = input('height of triangle: ')\n",
    "A = (1/2)*float(b)*float(h)\n",
    "print(f'The area of the triangle is: {A}')"
   ]
  },
  {
   "cell_type": "markdown",
   "metadata": {},
   "source": [
    "Now that you are familiar with Python's ```input()``` function, let's utilize a user's input to decide which lines of code will run. The concept of an selection statement is introduced the next section."
   ]
  },
  {
   "cell_type": "code",
   "execution_count": null,
   "metadata": {},
   "outputs": [],
   "source": []
  }
 ],
 "metadata": {
  "jupytext": {
   "text_representation": {
    "extension": ".md",
    "format_name": "myst",
    "format_version": "0.9",
    "jupytext_version": "1.5.0"
   }
  },
  "kernelspec": {
   "display_name": "Python 3",
   "language": "python",
   "name": "python3"
  },
  "language_info": {
   "file_extension": ".txt"
  },
  "source_map": [
   12,
   16,
   20,
   30,
   32,
   36,
   39,
   45,
   50,
   54,
   58,
   64,
   69,
   73
  ]
 },
 "nbformat": 4,
 "nbformat_minor": 4
}