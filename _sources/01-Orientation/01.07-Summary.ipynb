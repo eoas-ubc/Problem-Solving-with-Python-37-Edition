{
 "cells": [
  {
   "cell_type": "markdown",
   "metadata": {
    "latex": {
     "before_cell": "newpage"
    }
   },
   "source": [
    "## Summary"
   ]
  },
  {
   "cell_type": "markdown",
   "metadata": {},
   "source": [
    "In this chapter, you learned about the Anaconda distribution of Python and how the Anaconda distribution of Python compares the version of Python at Python.org.  The Anaconda distribution of Python comes with about 600 packages pre-installed as well as Jupyter notebooks and the Anaconda Prompt. Jupyter notebooks and some of the pre-installed packages that come with Anaconda will be used later chapters. This text recommends that problem solvers install the Anaconda distribution of Python.\n",
    "\n",
    "This chapter showed how to install the Anaconda distribution of Python on Windows, MacOS, and Linux.  \n",
    "\n",
    "At the end of the chapter, a description of how to download and install Python from Python.org was shown."
   ]
  },
  {
   "cell_type": "markdown",
   "metadata": {},
   "source": [
    "### Key Terms and Concepts"
   ]
  },
  {
   "cell_type": "markdown",
   "metadata": {
    "latex": {
     "environment": "key_terms"
    }
   },
   "source": [
    "Anaconda\n",
    "\n",
    "Anaconda Prompt\n",
    "\n",
    "download\n",
    "\n",
    "install\n",
    "\n",
    "Python\n",
    "\n",
    "Legacy Python\n",
    "\n",
    "Python Interpreter\n",
    "\n",
    "Python REPL\n",
    "\n",
    "package\n",
    "\n",
    "operating system\n",
    "\n",
    "Windows\n",
    "\n",
    "MacOS\n",
    "\n",
    "Linux\n",
    "\n",
    "terminal\n",
    "\n",
    "PATH"
   ]
  },
  {
   "cell_type": "code",
   "execution_count": null,
   "metadata": {},
   "outputs": [],
   "source": []
  }
 ],
 "metadata": {
  "celltoolbar": "Edit Metadata",
  "kernelspec": {
   "display_name": "Python 3",
   "language": "python",
   "name": "python3"
  },
  "language_info": {
   "codemirror_mode": {
    "name": "ipython",
    "version": 3
   },
   "file_extension": ".py",
   "mimetype": "text/x-python",
   "name": "python",
   "nbconvert_exporter": "python",
   "pygments_lexer": "ipython3",
   "version": "3.6.4"
  }
 },
 "nbformat": 4,
 "nbformat_minor": 2
}
