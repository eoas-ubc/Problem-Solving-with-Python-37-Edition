{
 "cells": [
  {
   "cell_type": "markdown",
   "metadata": {},
   "source": [
    "# NumPy and Arrays"
   ]
  },
  {
   "cell_type": "markdown",
   "metadata": {},
   "source": [
    "## Introduction"
   ]
  },
  {
   "cell_type": "markdown",
   "metadata": {
    "latex": {
     "after_cell": "newpage"
    }
   },
   "source": [
    "By the end of this chapter you will be able to:\n",
    "\n",
    " * Explain the difference between a Python list and a NumPy array\n",
    "\n",
    " * Create NumPy arrays\n",
    " \n",
    " * Modify NumPy arrays\n",
    " \n",
    " * Index NumPy arrays\n",
    " \n",
    " * Run mathematical operations on  NumPy arrays\n",
    " \n",
    " * Solve a system of linear equations using matrices"
   ]
  },
  {
   "cell_type": "code",
   "execution_count": null,
   "metadata": {},
   "outputs": [],
   "source": []
  },
  {
   "cell_type": "markdown",
   "metadata": {},
   "source": [
    "```{toctree}\n",
    ":hidden:\n",
    ":titlesonly:\n",
    "\n",
    "\n",
    "05_01-NumPy.md\n",
    "05_02-Installing-NumPy.md\n",
    "05_03-Python-Lists-and-NumPy-Arrays.md\n",
    "05_04-Array-Creation.md\n",
    "05_05-Array-Indexing.md\n",
    "05_06-Array-Slicing.md\n",
    "05_07-Array-Opperations.md\n",
    "05_08-Systems-of-Linear-Equations.md\n",
    "05_09-Summary.md\n",
    "05_10-Review-Questions.md\n",
    "```"
   ]
  }
 ],
 "metadata": {
  "jupytext": {
   "text_representation": {
    "extension": ".md",
    "format_name": "myst",
    "format_version": "0.9",
    "jupytext_version": "1.5.0"
   }
  },
  "kernelspec": {
   "display_name": "Python 3",
   "language": "python",
   "name": "python3"
  },
  "language_info": {
   "codemirror_mode": {
    "name": "ipython",
    "version": 3
   },
   "file_extension": ".py",
   "mimetype": "text/x-python",
   "name": "python",
   "nbconvert_exporter": "python",
   "pygments_lexer": "ipython3",
   "version": "3.8.5"
  },
  "source_map": [
   12,
   16,
   20,
   36,
   38
  ]
 },
 "nbformat": 4,
 "nbformat_minor": 4
}