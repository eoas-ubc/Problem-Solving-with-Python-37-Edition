{
 "cells": [
  {
   "cell_type": "markdown",
   "metadata": {},
   "source": [
    "# Data Types and Variables"
   ]
  },
  {
   "cell_type": "markdown",
   "metadata": {},
   "source": [
    "## Introduction"
   ]
  },
  {
   "cell_type": "markdown",
   "metadata": {
    "latex": {
     "after_cell": "newpage"
    }
   },
   "source": [
    "This chapter is about Python data types. Python has many built-in data types such as integers, floats, booleans, strings, and lists. \n",
    "\n",
    "By the end of this chapter you will be able to:\n",
    "\n",
    " * Explain the difference between Python's built-in data types\n",
    " \n",
    " * Define variables with the assignment operator ```=```\n",
    " \n",
    " * Create variables with different data types\n",
    "\n",
    " * Use Python's ```type()``` function to determine an object's data type\n",
    " \n",
    " * Compare variables with the comparison operator ```==```\n",
    " \n",
    " * Convert variables from one data type to another\n",
    " \n",
    " * Work with integers, floats and complex numbers\n",
    " \n",
    " * Understand the boolean data type\n",
    " \n",
    " * Create and modify lists, dictionaries and tuples\n",
    " \n",
    " * Index and slice strings, lists and tuples"
   ]
  },
  {
   "cell_type": "code",
   "execution_count": null,
   "metadata": {},
   "outputs": [],
   "source": []
  },
  {
   "cell_type": "markdown",
   "metadata": {},
   "source": [
    "```{toctree}\n",
    ":hidden:\n",
    ":titlesonly:\n",
    "\n",
    "\n",
    "04_01-Numeric-Data-Types.md\n",
    "04_02-Boolean-Data-Type.md\n",
    "04_03-Strings.md\n",
    "04_04-Lists.md\n",
    "04_05-Dictionaries-and-Tuples.md\n",
    "04_06-Summary.md\n",
    "04_07-Review-Questions.md\n",
    "```"
   ]
  }
 ],
 "metadata": {
  "jupytext": {
   "text_representation": {
    "extension": ".md",
    "format_name": "myst",
    "format_version": "0.9",
    "jupytext_version": "1.5.0"
   }
  },
  "kernelspec": {
   "display_name": "Python 3",
   "language": "python",
   "name": "python3"
  },
  "language_info": {
   "codemirror_mode": {
    "name": "ipython",
    "version": 3
   },
   "file_extension": ".py",
   "mimetype": "text/x-python",
   "name": "python",
   "nbconvert_exporter": "python",
   "pygments_lexer": "ipython3",
   "version": "3.8.5"
  },
  "source_map": [
   12,
   16,
   20,
   46,
   48
  ]
 },
 "nbformat": 4,
 "nbformat_minor": 4
}